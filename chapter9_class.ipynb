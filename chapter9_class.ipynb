{
 "cells": [
  {
   "cell_type": "code",
   "execution_count": 6,
   "metadata": {},
   "outputs": [],
   "source": [
    "# 9.1\n",
    "class Restaurant:\n",
    "    def __init__(self, restaurant_name, cuisine_type, number_served=0) -> None:\n",
    "        self.restaurant_name = restaurant_name\n",
    "        self.cuisine_type = cuisine_type\n",
    "        # 9.4\n",
    "        self.number_served = number_served\n",
    "\n",
    "\n",
    "    def describe_restaurant(self):\n",
    "        \"\"\"描述餐厅的属性\"\"\"\n",
    "        print(self.restaurant_name)\n",
    "        print(self.cuisine_type)\n",
    "\n",
    "    def open_restaurant(self):\n",
    "        \"\"\"餐厅开业\"\"\"\n",
    "        print(\"The restaurant is servicing\")\n",
    "\n",
    "    def set_number_served(self, number_served):\n",
    "        self.number_served = number_served\n",
    "\n",
    "    def increment_number_served(self, incre_served):\n",
    "        \"\"\"就餐人数递增\"\"\"\n",
    "        self.number_served += incre_served\n"
   ]
  },
  {
   "cell_type": "code",
   "execution_count": 5,
   "metadata": {},
   "outputs": [
    {
     "name": "stdout",
     "output_type": "stream",
     "text": [
      "Winner\n",
      "pizza\n",
      "Winner\n",
      "pizza\n",
      "The restaurant is servicing\n"
     ]
    }
   ],
   "source": [
    "\n",
    "pizza_restaurant = Restaurant('Winner', 'pizza')\n",
    "print(pizza_restaurant.restaurant_name)\n",
    "print(pizza_restaurant.cuisine_type)\n",
    "\n",
    "pizza_restaurant.describe_restaurant()\n",
    "pizza_restaurant.open_restaurant()\n",
    "\n"
   ]
  },
  {
   "cell_type": "code",
   "execution_count": 7,
   "metadata": {},
   "outputs": [
    {
     "name": "stdout",
     "output_type": "stream",
     "text": [
      "KFC\n",
      "hanberger\n",
      "MacDonland\n",
      "hanberger\n"
     ]
    }
   ],
   "source": [
    "kfc_restaurant = Restaurant('KFC', 'hanberger')\n",
    "kfc_restaurant.describe_restaurant()\n",
    "\n",
    "mc_restaurant = Restaurant('MacDonland', 'hanberger')\n",
    "mc_restaurant.describe_restaurant()\n"
   ]
  },
  {
   "cell_type": "code",
   "execution_count": null,
   "metadata": {},
   "outputs": [],
   "source": [
    "\n",
    "class User:\n",
    "    def __init__(self, first_name, last_name, **user_profile) -> None:\n",
    "        self.first_name = first_name\n",
    "        self.last_name = last_name\n"
   ]
  },
  {
   "cell_type": "code",
   "execution_count": 8,
   "metadata": {},
   "outputs": [
    {
     "name": "stdout",
     "output_type": "stream",
     "text": [
      "0\n",
      "10\n",
      "20\n",
      "22\n"
     ]
    }
   ],
   "source": [
    "# 9.4\n",
    "jinjiang_restaurant = Restaurant('jinjiang', 'chuancai')\n",
    "print(jinjiang_restaurant.number_served)\n",
    "\n",
    "jinjiang_restaurant.number_served = 10\n",
    "print(jinjiang_restaurant.number_served)\n",
    "\n",
    "jinjiang_restaurant.set_number_served(20)\n",
    "print(jinjiang_restaurant.number_served)\n",
    "\n",
    "jinjiang_restaurant.increment_number_served(2)\n",
    "print(jinjiang_restaurant.number_served)\n"
   ]
  },
  {
   "cell_type": "code",
   "execution_count": null,
   "metadata": {},
   "outputs": [],
   "source": []
  }
 ],
 "metadata": {
  "kernelspec": {
   "display_name": "Python 3",
   "language": "python",
   "name": "python3"
  },
  "language_info": {
   "codemirror_mode": {
    "name": "ipython",
    "version": 3
   },
   "file_extension": ".py",
   "mimetype": "text/x-python",
   "name": "python",
   "nbconvert_exporter": "python",
   "pygments_lexer": "ipython3",
   "version": "3.8.2"
  }
 },
 "nbformat": 4,
 "nbformat_minor": 2
}
