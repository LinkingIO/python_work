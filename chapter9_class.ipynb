{
 "cells": [
  {
   "cell_type": "code",
   "execution_count": 2,
   "metadata": {},
   "outputs": [],
   "source": [
    "# 9.1\n",
    "class Restaurant:\n",
    "    def __init__(self, restaurant_name, cuisine_type, number_served=0) -> None:\n",
    "        self.restaurant_name = restaurant_name\n",
    "        self.cuisine_type = cuisine_type\n",
    "        # 9.4\n",
    "        self.number_served = number_served\n",
    "\n",
    "    def describe_restaurant(self):\n",
    "        \"\"\"描述餐厅的属性\"\"\"\n",
    "        print(self.restaurant_name)\n",
    "        print(self.cuisine_type)\n",
    "\n",
    "    def open_restaurant(self):\n",
    "        \"\"\"餐厅开业\"\"\"\n",
    "        print(\"The restaurant is servicing\")\n",
    "\n",
    "    def set_number_served(self, number_served):\n",
    "        self.number_served = number_served\n",
    "\n",
    "    def increment_number_served(self, incre_served):\n",
    "        \"\"\"就餐人数递增\"\"\"\n",
    "        self.number_served += incre_served\n"
   ]
  },
  {
   "cell_type": "code",
   "execution_count": 5,
   "metadata": {},
   "outputs": [
    {
     "name": "stdout",
     "output_type": "stream",
     "text": [
      "Winner\n",
      "pizza\n",
      "Winner\n",
      "pizza\n",
      "The restaurant is servicing\n"
     ]
    }
   ],
   "source": [
    "\n",
    "pizza_restaurant = Restaurant('Winner', 'pizza')\n",
    "print(pizza_restaurant.restaurant_name)\n",
    "print(pizza_restaurant.cuisine_type)\n",
    "\n",
    "pizza_restaurant.describe_restaurant()\n",
    "pizza_restaurant.open_restaurant()\n",
    "\n"
   ]
  },
  {
   "cell_type": "code",
   "execution_count": 7,
   "metadata": {},
   "outputs": [
    {
     "name": "stdout",
     "output_type": "stream",
     "text": [
      "KFC\n",
      "hanberger\n",
      "MacDonland\n",
      "hanberger\n"
     ]
    }
   ],
   "source": [
    "kfc_restaurant = Restaurant('KFC', 'hanberger')\n",
    "kfc_restaurant.describe_restaurant()\n",
    "\n",
    "mc_restaurant = Restaurant('MacDonland', 'hanberger')\n",
    "mc_restaurant.describe_restaurant()\n"
   ]
  },
  {
   "cell_type": "code",
   "execution_count": 5,
   "metadata": {},
   "outputs": [],
   "source": [
    "\n",
    "class User:\n",
    "    def __init__(self, first_name, last_name, **user_profile) -> None:\n",
    "        self.first_name = first_name\n",
    "        self.last_name = last_name\n"
   ]
  },
  {
   "cell_type": "code",
   "execution_count": 8,
   "metadata": {},
   "outputs": [
    {
     "name": "stdout",
     "output_type": "stream",
     "text": [
      "0\n",
      "10\n",
      "20\n",
      "22\n"
     ]
    }
   ],
   "source": [
    "# 9.4\n",
    "jinjiang_restaurant = Restaurant('jinjiang', 'chuancai')\n",
    "print(jinjiang_restaurant.number_served)\n",
    "\n",
    "jinjiang_restaurant.number_served = 10\n",
    "print(jinjiang_restaurant.number_served)\n",
    "\n",
    "jinjiang_restaurant.set_number_served(20)\n",
    "print(jinjiang_restaurant.number_served)\n",
    "\n",
    "jinjiang_restaurant.increment_number_served(2)\n",
    "print(jinjiang_restaurant.number_served)\n"
   ]
  },
  {
   "cell_type": "code",
   "execution_count": 3,
   "metadata": {},
   "outputs": [
    {
     "name": "stdout",
     "output_type": "stream",
     "text": [
      "Chocolate,Vanilla,Strawberry\n"
     ]
    }
   ],
   "source": [
    "# 9-6\n",
    "class IceCreamStand(Restaurant):\n",
    "    def __init__(self, restaurant_name, cuisine_type, flavors, number_served=0) -> None:\n",
    "        super().__init__(restaurant_name, cuisine_type, number_served)\n",
    "        self.flavors = flavors\n",
    "\n",
    "    def display_flavors(self):\n",
    "        print(\",\".join(self.flavors))\n",
    "        \n",
    "my_iceCreamStand = IceCreamStand('RainbowIce', 'IceCream', ['Chocolate', 'Vanilla', 'Strawberry'])\n",
    "my_iceCreamStand.display_flavors()"
   ]
  },
  {
   "cell_type": "code",
   "execution_count": 6,
   "metadata": {},
   "outputs": [
    {
     "name": "stdout",
     "output_type": "stream",
     "text": [
      "can add post,can delete post,can ban user\n"
     ]
    }
   ],
   "source": [
    "# 9-7\n",
    "class Admin(User):\n",
    "    def __init__(self, first_name, last_name, privileges, **user_profile) -> None:\n",
    "        super().__init__(first_name, last_name, **user_profile)\n",
    "        self.privileges = privileges\n",
    "\n",
    "    def show_privileges(self):\n",
    "        print(\",\".join(self.privileges))\n",
    "\n",
    "\n",
    "adm = Admin('Alex', 'Ascer', ['can add post', 'can delete post', 'can ban user'])\n",
    "adm.show_privileges()\n",
    "\n"
   ]
  },
  {
   "cell_type": "code",
   "execution_count": 7,
   "metadata": {},
   "outputs": [
    {
     "name": "stdout",
     "output_type": "stream",
     "text": [
      "can add post,can delete post,can ban user\n"
     ]
    }
   ],
   "source": [
    "# 9-8\n",
    "class Privileges():\n",
    "    def __init__(self, privileges = ['can add post', 'can delete post', 'can ban user']) -> None:\n",
    "        self.privileges = privileges\n",
    "\n",
    "    def show_privileges(self):\n",
    "        print(\",\".join(self.privileges))\n",
    "\n",
    "class Admin(User):\n",
    "    def __init__(self, first_name, last_name, **user_profile) -> None:\n",
    "        super().__init__(first_name, last_name, **user_profile)\n",
    "        self.privileges = Privileges()\n",
    "\n",
    "adm = Admin('John', 'Ascer')\n",
    "adm.privileges.show_privileges()"
   ]
  },
  {
   "cell_type": "code",
   "execution_count": 17,
   "metadata": {},
   "outputs": [
    {
     "name": "stdout",
     "output_type": "stream",
     "text": [
      "2022 Byd Qing\n",
      "This car has a 70-kWh battery.\n",
      "This car can go approximately 240 miles on a full charge.\n",
      "This battery upgrate to 85 kWh.\n",
      "This car has a 85-kWh battery.\n",
      "This car can go approximately 270 miles on a full charge.\n"
     ]
    }
   ],
   "source": [
    "# 9-9\n",
    "class Car():\n",
    "    \"\"\"描述汽车的简单尝试\"\"\"\n",
    "    def __init__(self, make, model, year) -> None:\n",
    "        \"\"\"初始化汽车的属性\"\"\"\n",
    "        self.make = make\n",
    "        self.model = model\n",
    "        self.year = year\n",
    "    \n",
    "    def get_descriptive_name(self):\n",
    "        long_name = str(self.year) + ' ' + self.make + \" \" + self.model\n",
    "        return long_name.title()\n",
    "\n",
    "class Battery():\n",
    "    \"\"\"模拟电动车电池\"\"\"\n",
    "    \n",
    "    def __init__(self, battery_size=70) -> None:\n",
    "        \"\"\"初始化电池属性\"\"\"\n",
    "        self.battery_size = battery_size\n",
    "\n",
    "    def describe_battery(self):\n",
    "        \"\"\"打印电池容量\"\"\"\n",
    "        print(\"This car has a \" + str(self.battery_size) + \"-kWh battery.\")\n",
    "    \n",
    "    def get_range(self):\n",
    "        \"\"\"展示电池续航里程\"\"\"\n",
    "        if self.battery_size == 70:\n",
    "            range = 240\n",
    "        elif self.battery_size == 85:\n",
    "            range = 270\n",
    "        \n",
    "        message = \"This car can go approximately \" + str(range)\n",
    "        message += \" miles on a full charge.\"\n",
    "        print(message)\n",
    "    \n",
    "    def upgrage_battery(self):\n",
    "        \"\"\"升级电池容量\"\"\"\n",
    "        if(self.battery_size != 85):\n",
    "            self.battery_size = 85\n",
    "            print(\"This battery upgrate to \" + str(self.battery_size) + \" kWh.\")\n",
    "\n",
    "class ElectricCar(Car):\n",
    "    \"\"\"电动车类\"\"\"\n",
    "    \n",
    "    def __init__(self, make, model, year) -> None:\n",
    "        \"\"\"初始化父类属性\"\"\"\n",
    "        super().__init__(make, model, year)\n",
    "        self.battery = Battery()\n",
    "\n",
    "my_byd = ElectricCar('BYD', 'qing', 2022)\n",
    "print(my_byd.get_descriptive_name())\n",
    "my_byd.battery.describe_battery()\n",
    "my_byd.battery.get_range()\n",
    "my_byd.battery.upgrage_battery()\n",
    "my_byd.battery.describe_battery()\n",
    "my_byd.battery.get_range()\n"
   ]
  },
  {
   "cell_type": "code",
   "execution_count": 24,
   "metadata": {},
   "outputs": [
    {
     "name": "stdout",
     "output_type": "stream",
     "text": [
      "110\n"
     ]
    }
   ],
   "source": [
    "# 9-10\n",
    "from chapter9_restaurant import Restaurant\n",
    "juewei = Restaurant('jue wei ya bo', 'chuancai', 100)\n",
    "juewei.increment_number_served(10)\n",
    "print(juewei.number_served)"
   ]
  },
  {
   "cell_type": "code",
   "execution_count": 36,
   "metadata": {},
   "outputs": [
    {
     "ename": "ImportError",
     "evalue": "cannot import name 'ModelAdmin' from 'chapter9_user' (/Users/carves/Documents/learning/python_work/chapter9_user.py)",
     "output_type": "error",
     "traceback": [
      "\u001b[0;31m---------------------------------------------------------------------------\u001b[0m",
      "\u001b[0;31mImportError\u001b[0m                               Traceback (most recent call last)",
      "\u001b[0;32m/var/folders/4g/lvtb6b756nsf76wdbwkcwcl00000gn/T/ipykernel_26805/293198233.py\u001b[0m in \u001b[0;36m<module>\u001b[0;34m\u001b[0m\n\u001b[1;32m      1\u001b[0m \u001b[0;31m# 9-11\u001b[0m\u001b[0;34m\u001b[0m\u001b[0;34m\u001b[0m\u001b[0;34m\u001b[0m\u001b[0m\n\u001b[0;32m----> 2\u001b[0;31m \u001b[0;32mfrom\u001b[0m \u001b[0mchapter9_user\u001b[0m \u001b[0;32mimport\u001b[0m \u001b[0mModelAdmin\u001b[0m\u001b[0;34m\u001b[0m\u001b[0;34m\u001b[0m\u001b[0m\n\u001b[0m\u001b[1;32m      3\u001b[0m \u001b[0;34m\u001b[0m\u001b[0m\n\u001b[1;32m      4\u001b[0m \u001b[0madm\u001b[0m \u001b[0;34m=\u001b[0m \u001b[0mModelAdmin\u001b[0m\u001b[0;34m(\u001b[0m\u001b[0;34m'dayo'\u001b[0m\u001b[0;34m,\u001b[0m \u001b[0;34m'yang'\u001b[0m\u001b[0;34m)\u001b[0m\u001b[0;34m\u001b[0m\u001b[0;34m\u001b[0m\u001b[0m\n\u001b[1;32m      5\u001b[0m \u001b[0;31m# adm.show_name()\u001b[0m\u001b[0;34m\u001b[0m\u001b[0;34m\u001b[0m\u001b[0;34m\u001b[0m\u001b[0m\n",
      "\u001b[0;31mImportError\u001b[0m: cannot import name 'ModelAdmin' from 'chapter9_user' (/Users/carves/Documents/learning/python_work/chapter9_user.py)"
     ]
    }
   ],
   "source": [
    "# 9-11\n",
    "from chapter9_user import ModelAdmin\n",
    "\n",
    "adm = ModelAdmin('dayo', 'yang')\n",
    "# adm.show_name()\n",
    "# adm.privileges.show_privileges()"
   ]
  },
  {
   "cell_type": "code",
   "execution_count": 21,
   "metadata": {},
   "outputs": [
    {
     "name": "stdout",
     "output_type": "stream",
     "text": [
      "Python: Glue Language For Ai And Shell Script.\n",
      "Java: Web And Big Project Language.\n",
      "C: System Level Language.\n",
      "Golang: Cloud Language.\n",
      "List: Python List For Storage.\n",
      "Dict: Python Dict\n"
     ]
    }
   ],
   "source": [
    "# 6-4\n",
    "dict_couputer_language = {\n",
    "    'Python': 'Glue language for AI and shell script.',\n",
    "    'Java': 'Web and Big project language.',\n",
    "    'C': 'System level language.',\n",
    "    'Golang': 'Cloud language.',\n",
    "    'List': 'Python list for storage.',\n",
    "    'Dict': 'Python Dict for key value data.'\n",
    "}\n",
    "for key, value in dict_couputer_language.items():\n",
    "    print(key.title() +\": \" +value.title())\n"
   ]
  },
  {
   "cell_type": "code",
   "execution_count": 22,
   "metadata": {},
   "outputs": [
    {
     "name": "stdout",
     "output_type": "stream",
     "text": [
      "Python: Glue Language For Ai And Shell Script.\n",
      "Java: Web And Big Project Language.\n",
      "Golang: Cloud Native Language.\n",
      "C: System Level Language.\n"
     ]
    }
   ],
   "source": [
    "# 9-13\n",
    "from collections import OrderedDict\n",
    "\n",
    "order_dict_language = OrderedDict()\n",
    "order_dict_language['Python'] = 'Glue language for AI and shell script.'\n",
    "order_dict_language['Java'] = 'Web and Big project language.'\n",
    "order_dict_language['Golang'] = 'Cloud Native language.'\n",
    "order_dict_language['C'] = 'System level language.'\n",
    "\n",
    "for key, value in order_dict_language.items():\n",
    "    print(key.title() +\": \" +value.title())\n",
    "\n"
   ]
  },
  {
   "cell_type": "code",
   "execution_count": null,
   "metadata": {},
   "outputs": [],
   "source": [
    "\n"
   ]
  }
 ],
 "metadata": {
  "kernelspec": {
   "display_name": "Python 3",
   "language": "python",
   "name": "python3"
  },
  "language_info": {
   "codemirror_mode": {
    "name": "ipython",
    "version": 3
   },
   "file_extension": ".py",
   "mimetype": "text/x-python",
   "name": "python",
   "nbconvert_exporter": "python",
   "pygments_lexer": "ipython3",
   "version": "3.8.2"
  }
 },
 "nbformat": 4,
 "nbformat_minor": 2
}
