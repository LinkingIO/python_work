{
 "cells": [
  {
   "cell_type": "code",
   "execution_count": 2,
   "metadata": {},
   "outputs": [],
   "source": [
    "class Restaurant:\n",
    "    def __init__(self, restaurant_name, cuisine_type) -> None:\n",
    "        self.restaurant_name = restaurant_name\n",
    "        self.cuisine_type = cuisine_type\n",
    "\n",
    "\n",
    "    def describe_restaurant(self):\n",
    "        print(self.restaurant_name)\n",
    "        print(self.cuisine_type)\n",
    "\n",
    "    def open_restaurant(self):\n",
    "        print(\"The restaurant is servicing\")\n"
   ]
  },
  {
   "cell_type": "code",
   "execution_count": 5,
   "metadata": {},
   "outputs": [
    {
     "name": "stdout",
     "output_type": "stream",
     "text": [
      "Winner\n",
      "pizza\n",
      "Winner\n",
      "pizza\n",
      "The restaurant is servicing\n"
     ]
    }
   ],
   "source": [
    "\n",
    "pizza_restaurant = Restaurant('Winner', 'pizza')\n",
    "print(pizza_restaurant.restaurant_name)\n",
    "print(pizza_restaurant.cuisine_type)\n",
    "\n",
    "pizza_restaurant.describe_restaurant()\n",
    "pizza_restaurant.open_restaurant()\n"
   ]
  },
  {
   "cell_type": "code",
   "execution_count": 7,
   "metadata": {},
   "outputs": [
    {
     "name": "stdout",
     "output_type": "stream",
     "text": [
      "KFC\n",
      "hanberger\n",
      "MacDonland\n",
      "hanberger\n"
     ]
    }
   ],
   "source": [
    "kfc_restaurant = Restaurant('KFC', 'hanberger')\n",
    "kfc_restaurant.describe_restaurant()\n",
    "\n",
    "mc_restaurant = Restaurant('MacDonland', 'hanberger')\n",
    "mc_restaurant.describe_restaurant()"
   ]
  },
  {
   "cell_type": "code",
   "execution_count": null,
   "metadata": {},
   "outputs": [],
   "source": [
    "# class User:\n",
    "#     def __init__(self, first_name, last_name, **user_profile) -> None:\n",
    "#         self.first_name = first_name\n",
    "#         self.last_name = last_name\n",
    "        "
   ]
  }
 ],
 "metadata": {
  "kernelspec": {
   "display_name": "Python 3",
   "language": "python",
   "name": "python3"
  },
  "language_info": {
   "codemirror_mode": {
    "name": "ipython",
    "version": 3
   },
   "file_extension": ".py",
   "mimetype": "text/x-python",
   "name": "python",
   "nbconvert_exporter": "python",
   "pygments_lexer": "ipython3",
   "version": "3.8.2"
  }
 },
 "nbformat": 4,
 "nbformat_minor": 2
}
