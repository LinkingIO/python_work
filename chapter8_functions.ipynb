{
 "cells": [
  {
   "cell_type": "code",
   "execution_count": 4,
   "metadata": {},
   "outputs": [
    {
     "name": "stdout",
     "output_type": "stream",
     "text": [
      "Hello!\n"
     ]
    }
   ],
   "source": [
    "# greeter\n",
    "def greet_user():\n",
    "    \"\"\"显示简单问候语！｜\"\"\"\n",
    "    print(\"Hello!\")\n",
    "greet_user()\n"
   ]
  },
  {
   "cell_type": "code",
   "execution_count": 5,
   "metadata": {},
   "outputs": [
    {
     "name": "stdout",
     "output_type": "stream",
     "text": [
      "Hello, Alice!\n"
     ]
    }
   ],
   "source": [
    "def greet_user(username):\n",
    "    \"\"\"显示简单问候语！\"\"\"\n",
    "    print(\"Hello, \" + username.title() + \"!\")\n",
    "greet_user('alice')"
   ]
  },
  {
   "cell_type": "code",
   "execution_count": 6,
   "metadata": {},
   "outputs": [
    {
     "name": "stdout",
     "output_type": "stream",
     "text": [
      "One of my favorite books is Alice In Wonderland\n"
     ]
    }
   ],
   "source": [
    "# 8-2\n",
    "def favorite_book(title):\n",
    "    \"\"\"print my favorite book!\"\"\"\n",
    "    print(\"One of my favorite books is \" + title.title())\n",
    "\n",
    "favorite_book(\"alice in wonderland\")"
   ]
  },
  {
   "cell_type": "code",
   "execution_count": 8,
   "metadata": {},
   "outputs": [
    {
     "name": "stdout",
     "output_type": "stream",
     "text": [
      "\n",
      "I have a dog.\n",
      "My dog's name is Willie.\n",
      "\n",
      "I have a cat.\n",
      "My cat's name is Dingdang.\n"
     ]
    }
   ],
   "source": [
    "def describe_pet(animal_type, pet_name):\n",
    "    \"\"\"显示宠物信息\"\"\"\n",
    "    print(\"\\nI have a \" + animal_type + \".\")\n",
    "    print(\"My \" + animal_type + \"'s name is \" + pet_name.title() + \".\")\n",
    "\n",
    "describe_pet('dog', 'willie')\n",
    "describe_pet('cat', 'dingdang')"
   ]
  },
  {
   "cell_type": "code",
   "execution_count": 9,
   "metadata": {},
   "outputs": [
    {
     "name": "stdout",
     "output_type": "stream",
     "text": [
      "\n",
      "I have a dog.\n",
      "My dog's name is Willie.\n"
     ]
    }
   ],
   "source": [
    "describe_pet(animal_type='dog', pet_name='willie')"
   ]
  },
  {
   "cell_type": "code",
   "execution_count": 11,
   "metadata": {},
   "outputs": [
    {
     "name": "stdout",
     "output_type": "stream",
     "text": [
      "\n",
      "I have a cat.\n",
      "My cat's name is Ding Dang.\n",
      "\n",
      "I have a dog.\n",
      "My dog's name is Willie.\n"
     ]
    }
   ],
   "source": [
    "def describe_pet(pet_name, animal_type='cat'):\n",
    "    \"\"\"显示宠物信息\"\"\"\n",
    "    print(\"\\nI have a \" + animal_type + \".\")\n",
    "    print(\"My \" + animal_type + \"'s name is \" + pet_name.title() + \".\")\n",
    "\n",
    "describe_pet('ding dang')\n",
    "describe_pet('willie', animal_type='dog')"
   ]
  },
  {
   "cell_type": "markdown",
   "metadata": {},
   "source": [
    "# return value"
   ]
  },
  {
   "cell_type": "code",
   "execution_count": 14,
   "metadata": {},
   "outputs": [
    {
     "name": "stdout",
     "output_type": "stream",
     "text": [
      "Jimi Hendrix\n"
     ]
    }
   ],
   "source": [
    "def get_formatted_name(first_name, last_name):\n",
    "    \"\"\"返回整洁的姓名\"\"\"\n",
    "    full_name = first_name + \" \" + last_name\n",
    "    return full_name.title()\n",
    "\n",
    "musician = get_formatted_name('jimi', 'hendrix')\n",
    "print(musician)"
   ]
  },
  {
   "cell_type": "code",
   "execution_count": 17,
   "metadata": {},
   "outputs": [
    {
     "name": "stdout",
     "output_type": "stream",
     "text": [
      "Jimi Aa Hendrix\n"
     ]
    }
   ],
   "source": [
    "# 思考，能否有其他的方式让实参可选\n",
    "def get_formatted_name(first_name, last_name, middle_name= ''):\n",
    "    \"\"\"返回整洁的姓名\"\"\"\n",
    "    if middle_name:\n",
    "        full_name = first_name + \" \" + middle_name + \" \" + last_name\n",
    "    else:\n",
    "        full_name = first_name + \" \" + last_name\n",
    "    return full_name.title()\n",
    "\n",
    "musician = get_formatted_name('jimi', 'hendrix')\n",
    "musician = get_formatted_name('jimi', 'hendrix', 'aa')\n",
    "print(musician)\n"
   ]
  },
  {
   "cell_type": "code",
   "execution_count": 18,
   "metadata": {},
   "outputs": [
    {
     "name": "stdout",
     "output_type": "stream",
     "text": [
      "{'first_name': 'jimi', 'last_name': 'hendrix', 'age': 21}\n"
     ]
    }
   ],
   "source": [
    "def build_person(first_name, last_name, age = 0):\n",
    "    \"\"\"返回 dict，包含一个人的信息\"\"\"\n",
    "    person = {\"first_name\": first_name, \"last_name\": last_name}\n",
    "    if age:\n",
    "        person[\"age\"] = age\n",
    "    return person\n",
    "\n",
    "musician = build_person('jimi', 'hendrix', age=21)\n",
    "print(musician)"
   ]
  },
  {
   "cell_type": "code",
   "execution_count": 19,
   "metadata": {},
   "outputs": [
    {
     "name": "stdout",
     "output_type": "stream",
     "text": [
      "Santiago, Chile\n"
     ]
    }
   ],
   "source": [
    "# 8-6\n",
    "def city_country(city, country):\n",
    "    return city.title() + \", \" + country.title()\n",
    "\n",
    "print(city_country('santiago', 'chile'))"
   ]
  },
  {
   "cell_type": "code",
   "execution_count": 22,
   "metadata": {},
   "outputs": [
    {
     "name": "stdout",
     "output_type": "stream",
     "text": [
      "{'singer_name': 'Jay Chou', 'album_name': 'Fantasy', 'song_num': 10}\n"
     ]
    }
   ],
   "source": [
    "# 8-7\n",
    "def make_album(singer_name, album_name, song_num = 0):\n",
    "    \"\"\"创建一个描述音乐专辑的字典\"\"\"\n",
    "    album = {'singer_name': singer_name, 'album_name':album_name}\n",
    "    if song_num:\n",
    "        album['song_num'] = song_num\n",
    "    return album\n",
    "\n",
    "album = make_album('Jay Chou', 'Fantasy', 10)\n",
    "print(album)\n"
   ]
  },
  {
   "cell_type": "code",
   "execution_count": 24,
   "metadata": {},
   "outputs": [
    {
     "name": "stdout",
     "output_type": "stream",
     "text": [
      "(enter 'q' at anytime to quit)\n",
      "{'singer_name': 'aa', 'album_name': 'bb'}\n",
      "(enter 'q' at anytime to quit)\n",
      "{'singer_name': 'Jay Chou', 'album_name': 'Fantasy'}\n",
      "(enter 'q' at anytime to quit)\n",
      "{'singer_name': 'Jay', 'album_name': ''}\n",
      "(enter 'q' at anytime to quit)\n"
     ]
    }
   ],
   "source": [
    "# 8-8\n",
    "\n",
    "while True:\n",
    "    print(\"(enter 'q' at anytime to quit)\")\n",
    "    singer_name = input(\"\\nSinger name:\")\n",
    "    if singer_name == 'q':\n",
    "        break\n",
    "    album_name = input(\"Album name:\")\n",
    "    if album_name == 'q':\n",
    "        break\n",
    "    \n",
    "    album = make_album(singer_name, album_name)\n",
    "    print(album)"
   ]
  },
  {
   "cell_type": "code",
   "execution_count": null,
   "metadata": {},
   "outputs": [],
   "source": []
  }
 ],
 "metadata": {
  "kernelspec": {
   "display_name": "Python 3",
   "language": "python",
   "name": "python3"
  },
  "language_info": {
   "codemirror_mode": {
    "name": "ipython",
    "version": 3
   },
   "file_extension": ".py",
   "mimetype": "text/x-python",
   "name": "python",
   "nbconvert_exporter": "python",
   "pygments_lexer": "ipython3",
   "version": "3.8.2"
  }
 },
 "nbformat": 4,
 "nbformat_minor": 2
}
