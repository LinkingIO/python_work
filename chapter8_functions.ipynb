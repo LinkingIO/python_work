{
 "cells": [
  {
   "cell_type": "code",
   "execution_count": 4,
   "metadata": {},
   "outputs": [
    {
     "name": "stdout",
     "output_type": "stream",
     "text": [
      "Hello!\n"
     ]
    }
   ],
   "source": [
    "# greeter\n",
    "def greet_user():\n",
    "    \"\"\"显示简单问候语！｜\"\"\"\n",
    "    print(\"Hello!\")\n",
    "greet_user()\n"
   ]
  },
  {
   "cell_type": "code",
   "execution_count": 5,
   "metadata": {},
   "outputs": [
    {
     "name": "stdout",
     "output_type": "stream",
     "text": [
      "Hello, Alice!\n"
     ]
    }
   ],
   "source": [
    "def greet_user(username):\n",
    "    \"\"\"显示简单问候语！\"\"\"\n",
    "    print(\"Hello, \" + username.title() + \"!\")\n",
    "greet_user('alice')"
   ]
  },
  {
   "cell_type": "code",
   "execution_count": 6,
   "metadata": {},
   "outputs": [
    {
     "name": "stdout",
     "output_type": "stream",
     "text": [
      "One of my favorite books is Alice In Wonderland\n"
     ]
    }
   ],
   "source": [
    "# 8-2\n",
    "def favorite_book(title):\n",
    "    \"\"\"print my favorite book!\"\"\"\n",
    "    print(\"One of my favorite books is \" + title.title())\n",
    "\n",
    "favorite_book(\"alice in wonderland\")"
   ]
  },
  {
   "cell_type": "code",
   "execution_count": 8,
   "metadata": {},
   "outputs": [
    {
     "name": "stdout",
     "output_type": "stream",
     "text": [
      "\n",
      "I have a dog.\n",
      "My dog's name is Willie.\n",
      "\n",
      "I have a cat.\n",
      "My cat's name is Dingdang.\n"
     ]
    }
   ],
   "source": [
    "def describe_pet(animal_type, pet_name):\n",
    "    \"\"\"显示宠物信息\"\"\"\n",
    "    print(\"\\nI have a \" + animal_type + \".\")\n",
    "    print(\"My \" + animal_type + \"'s name is \" + pet_name.title() + \".\")\n",
    "\n",
    "describe_pet('dog', 'willie')\n",
    "describe_pet('cat', 'dingdang')"
   ]
  },
  {
   "cell_type": "code",
   "execution_count": 9,
   "metadata": {},
   "outputs": [
    {
     "name": "stdout",
     "output_type": "stream",
     "text": [
      "\n",
      "I have a dog.\n",
      "My dog's name is Willie.\n"
     ]
    }
   ],
   "source": [
    "describe_pet(animal_type='dog', pet_name='willie')"
   ]
  },
  {
   "cell_type": "code",
   "execution_count": 11,
   "metadata": {},
   "outputs": [
    {
     "name": "stdout",
     "output_type": "stream",
     "text": [
      "\n",
      "I have a cat.\n",
      "My cat's name is Ding Dang.\n",
      "\n",
      "I have a dog.\n",
      "My dog's name is Willie.\n"
     ]
    }
   ],
   "source": [
    "def describe_pet(pet_name, animal_type='cat'):\n",
    "    \"\"\"显示宠物信息\"\"\"\n",
    "    print(\"\\nI have a \" + animal_type + \".\")\n",
    "    print(\"My \" + animal_type + \"'s name is \" + pet_name.title() + \".\")\n",
    "\n",
    "describe_pet('ding dang')\n",
    "describe_pet('willie', animal_type='dog')"
   ]
  },
  {
   "cell_type": "markdown",
   "metadata": {},
   "source": [
    "# return value"
   ]
  },
  {
   "cell_type": "code",
   "execution_count": 14,
   "metadata": {},
   "outputs": [
    {
     "name": "stdout",
     "output_type": "stream",
     "text": [
      "Jimi Hendrix\n"
     ]
    }
   ],
   "source": [
    "def get_formatted_name(first_name, last_name):\n",
    "    \"\"\"返回整洁的姓名\"\"\"\n",
    "    full_name = first_name + \" \" + last_name\n",
    "    return full_name.title()\n",
    "\n",
    "musician = get_formatted_name('jimi', 'hendrix')\n",
    "print(musician)"
   ]
  },
  {
   "cell_type": "code",
   "execution_count": 17,
   "metadata": {},
   "outputs": [
    {
     "name": "stdout",
     "output_type": "stream",
     "text": [
      "Jimi Aa Hendrix\n"
     ]
    }
   ],
   "source": [
    "# 思考，能否有其他的方式让实参可选\n",
    "def get_formatted_name(first_name, last_name, middle_name= ''):\n",
    "    \"\"\"返回整洁的姓名\"\"\"\n",
    "    if middle_name:\n",
    "        full_name = first_name + \" \" + middle_name + \" \" + last_name\n",
    "    else:\n",
    "        full_name = first_name + \" \" + last_name\n",
    "    return full_name.title()\n",
    "\n",
    "musician = get_formatted_name('jimi', 'hendrix')\n",
    "musician = get_formatted_name('jimi', 'hendrix', 'aa')\n",
    "print(musician)\n"
   ]
  },
  {
   "cell_type": "code",
   "execution_count": 19,
   "metadata": {},
   "outputs": [
    {
     "name": "stdout",
     "output_type": "stream",
     "text": [
      "Santiago, Chile\n"
     ]
    }
   ],
   "source": [
    "# 8-6\n",
    "def city_country(city, country):\n",
    "    return city.title() + \", \" + country.title()\n",
    "\n",
    "print(city_country('santiago', 'chile'))"
   ]
  },
  {
   "cell_type": "code",
   "execution_count": 22,
   "metadata": {},
   "outputs": [
    {
     "name": "stdout",
     "output_type": "stream",
     "text": [
      "{'singer_name': 'Jay Chou', 'album_name': 'Fantasy', 'song_num': 10}\n"
     ]
    }
   ],
   "source": [
    "# 8-7\n",
    "def make_album(singer_name, album_name, song_num = 0):\n",
    "    \"\"\"创建一个描述音乐专辑的字典\"\"\"\n",
    "    album = {'singer_name': singer_name, 'album_name':album_name}\n",
    "    if song_num:\n",
    "        album['song_num'] = song_num\n",
    "    return album\n",
    "\n",
    "album = make_album('Jay Chou', 'Fantasy', 10)\n",
    "print(album)\n"
   ]
  },
  {
   "cell_type": "code",
   "execution_count": 24,
   "metadata": {},
   "outputs": [
    {
     "name": "stdout",
     "output_type": "stream",
     "text": [
      "(enter 'q' at anytime to quit)\n",
      "{'singer_name': 'aa', 'album_name': 'bb'}\n",
      "(enter 'q' at anytime to quit)\n",
      "{'singer_name': 'Jay Chou', 'album_name': 'Fantasy'}\n",
      "(enter 'q' at anytime to quit)\n",
      "{'singer_name': 'Jay', 'album_name': ''}\n",
      "(enter 'q' at anytime to quit)\n"
     ]
    }
   ],
   "source": [
    "# 8-8\n",
    "\n",
    "while True:\n",
    "    print(\"(enter 'q' at anytime to quit)\")\n",
    "    singer_name = input(\"\\nSinger name:\")\n",
    "    if singer_name == 'q':\n",
    "        break\n",
    "    album_name = input(\"Album name:\")\n",
    "    if album_name == 'q':\n",
    "        break\n",
    "    \n",
    "    album = make_album(singer_name, album_name)\n",
    "    print(album)"
   ]
  },
  {
   "cell_type": "code",
   "execution_count": 6,
   "metadata": {},
   "outputs": [
    {
     "name": "stdout",
     "output_type": "stream",
     "text": [
      "alice\n",
      "jimi\n",
      "kenny\n",
      "the Great alice\n",
      "the Great jimi\n",
      "the Great kenny\n"
     ]
    }
   ],
   "source": [
    "# 8-9\n",
    "def show_magicians(magicians):\n",
    "    \"\"\"show each migician name!\"\"\"\n",
    "    for magician in magicians:\n",
    "        print(magician)\n",
    "# 8-10\n",
    "def make_great(magicians):\n",
    "    \"\"\"Add the Great\"\"\"\n",
    "    m_length = len(magicians)\n",
    "    for idx in range(m_length):\n",
    "        magicians[idx] = \"the Great \" + magicians[idx]\n",
    "\n",
    "magicians = ['alice', 'jimi', 'kenny']\n",
    "show_magicians(magicians)\n",
    "make_great(magicians)\n",
    "show_magicians(magicians)\n"
   ]
  },
  {
   "cell_type": "code",
   "execution_count": 7,
   "metadata": {},
   "outputs": [
    {
     "name": "stdout",
     "output_type": "stream",
     "text": [
      "alice\n",
      "jimi\n",
      "kenny\n",
      "alice\n",
      "jimi\n",
      "kenny\n",
      "the Great alice\n",
      "the Great jimi\n",
      "the Great kenny\n"
     ]
    }
   ],
   "source": [
    "\n",
    "# 8-11\n",
    "def make_great(magicians):\n",
    "    \"\"\"Add the Great\"\"\"\n",
    "    return [\"the Great \" + magician for magician in magicians]\n",
    "\n",
    "magicians = ['alice', 'jimi', 'kenny']\n",
    "show_magicians(magicians)\n",
    "\n",
    "changed_magicians = make_great(magicians)\n",
    "show_magicians(magicians)\n",
    "show_magicians(changed_magicians)\n",
    "\n"
   ]
  },
  {
   "cell_type": "markdown",
   "metadata": {},
   "source": [
    "## 传递任数量的实参"
   ]
  },
  {
   "cell_type": "code",
   "execution_count": 8,
   "metadata": {},
   "outputs": [
    {
     "name": "stdout",
     "output_type": "stream",
     "text": [
      "('pepperoni',)\n",
      "('mushrooms', 'green peppers', 'extra cheese')\n"
     ]
    }
   ],
   "source": [
    "\n",
    "def make_pizza(*toppings):\n",
    "    \"打印配料\"\n",
    "    print(toppings)\n",
    "\n",
    "make_pizza('pepperoni')\n",
    "make_pizza('mushrooms', 'green peppers', 'extra cheese')\n"
   ]
  },
  {
   "cell_type": "code",
   "execution_count": 9,
   "metadata": {},
   "outputs": [
    {
     "name": "stdout",
     "output_type": "stream",
     "text": [
      "\n",
      "Making a pizza with the following toopings:\n",
      "- pepperoni\n",
      "\n",
      "Making a pizza with the following toopings:\n",
      "- mushrooms\n",
      "- green peppers\n",
      "- extra cheese\n"
     ]
    }
   ],
   "source": [
    "\n",
    "def make_pizza(*toppings):\n",
    "    \"概述要自作的披萨\"\n",
    "    print(\"\\nMaking a pizza with the following toopings:\")\n",
    "    for topping in toppings:\n",
    "        print(\"- \" + topping)\n",
    "\n",
    "make_pizza('pepperoni')\n",
    "make_pizza('mushrooms', 'green peppers', 'extra cheese')\n"
   ]
  },
  {
   "cell_type": "code",
   "execution_count": 15,
   "metadata": {},
   "outputs": [
    {
     "name": "stdout",
     "output_type": "stream",
     "text": [
      "{'first_name': 'albert', 'last': 'einstein', 'location': 'princeton', 'field': 'physics'}\n"
     ]
    }
   ],
   "source": [
    "# user profile\n",
    "def build_profile(first, last, **user_info):\n",
    "    \"创建字典\"\n",
    "    profile = {}\n",
    "    profile['first_name'] = first\n",
    "    profile['last'] = last\n",
    "    for key, value in user_info.items():\n",
    "        profile[key] = value\n",
    "    return profile\n",
    "    \n",
    "user_profile = build_profile('albert', 'einstein', location='princeton', field='physics')\n",
    "print(user_profile)\n"
   ]
  },
  {
   "cell_type": "code",
   "execution_count": 16,
   "metadata": {},
   "outputs": [
    {
     "name": "stdout",
     "output_type": "stream",
     "text": [
      "('cucumber',)\n",
      "('cucumber', 'bacon', 'eggs')\n"
     ]
    }
   ],
   "source": [
    "# 8-12\n",
    "def make_sandwich(*toppings):\n",
    "    \"描述食材\"\n",
    "    print(toppings)\n",
    "\n",
    "make_sandwich('cucumber')\n",
    "make_sandwich('cucumber', 'bacon', 'eggs')\n"
   ]
  },
  {
   "cell_type": "code",
   "execution_count": 18,
   "metadata": {},
   "outputs": [
    {
     "name": "stdout",
     "output_type": "stream",
     "text": [
      "{'first_name': 'luo', 'last': 'logan', 'location': 'chengdu', 'field': 'Data Science'}\n"
     ]
    }
   ],
   "source": [
    "\n",
    "# 8-13\n",
    "user_profile = build_profile('luo', 'logan', location='chengdu', field = 'Data Science')\n",
    "print(user_profile)\n"
   ]
  },
  {
   "cell_type": "code",
   "execution_count": 20,
   "metadata": {},
   "outputs": [
    {
     "name": "stdout",
     "output_type": "stream",
     "text": [
      "{'maker': 'bmw', 'model': 'i200', 'color': 'red', 'two_package': True}\n"
     ]
    }
   ],
   "source": [
    "\n",
    "# 8-14\n",
    "def build_car(maker, model, **car_info):\n",
    "    \"\"\"汽车信息\"\"\"\n",
    "    profile = {}\n",
    "    profile['maker'] = maker\n",
    "    profile['model'] = model\n",
    "    for key, value in car_info.items():\n",
    "        profile[key] = value\n",
    "    return profile\n",
    "\n",
    "car_profile = build_car('bmw', 'i200', color='red',two_package=True)\n",
    "print(car_profile)\n",
    "    \n"
   ]
  },
  {
   "cell_type": "code",
   "execution_count": 21,
   "metadata": {},
   "outputs": [
    {
     "name": "stdout",
     "output_type": "stream",
     "text": [
      "{'first_name': 'jimi', 'last_name': 'hendrix', 'age': 21}\n"
     ]
    }
   ],
   "source": [
    "import chapter8_print_functions\n",
    "\n",
    "musician = chapter8_print_functions.build_person('jimi', 'hendrix', age=21)\n",
    "print(musician)"
   ]
  },
  {
   "cell_type": "code",
   "execution_count": 22,
   "metadata": {},
   "outputs": [
    {
     "name": "stdout",
     "output_type": "stream",
     "text": [
      "{'first_name': 'jimi', 'last_name': 'hendrix', 'age': 21}\n"
     ]
    }
   ],
   "source": [
    "from chapter8_print_functions import build_person\n",
    "\n",
    "musician = build_person('jimi', 'hendrix', age=21)\n",
    "print(musician)"
   ]
  },
  {
   "cell_type": "code",
   "execution_count": 23,
   "metadata": {},
   "outputs": [
    {
     "name": "stdout",
     "output_type": "stream",
     "text": [
      "{'first_name': 'jimi', 'last_name': 'hendrix', 'age': 21}\n"
     ]
    }
   ],
   "source": [
    "from chapter8_print_functions import build_person as bp\n",
    "\n",
    "musician = bp('jimi', 'hendrix', age=21)\n",
    "print(musician)"
   ]
  },
  {
   "cell_type": "code",
   "execution_count": 24,
   "metadata": {},
   "outputs": [
    {
     "name": "stdout",
     "output_type": "stream",
     "text": [
      "{'first_name': 'jimi', 'last_name': 'hendrix', 'age': 21}\n"
     ]
    }
   ],
   "source": [
    "import chapter8_print_functions as cpf\n",
    "\n",
    "musician = cpf.build_person('jimi', 'hendrix', age=21)\n",
    "print(musician)\n"
   ]
  },
  {
   "cell_type": "code",
   "execution_count": 25,
   "metadata": {},
   "outputs": [
    {
     "name": "stdout",
     "output_type": "stream",
     "text": [
      "{'first_name': 'jimi', 'last_name': 'hendrix', 'age': 21}\n"
     ]
    }
   ],
   "source": [
    "from chapter8_print_functions import *\n",
    "\n",
    "musician = build_person('jimi', 'hendrix', age=21)\n",
    "print(musician)"
   ]
  },
  {
   "cell_type": "code",
   "execution_count": null,
   "metadata": {},
   "outputs": [],
   "source": []
  }
 ],
 "metadata": {
  "kernelspec": {
   "display_name": "Python 3",
   "language": "python",
   "name": "python3"
  },
  "language_info": {
   "codemirror_mode": {
    "name": "ipython",
    "version": 3
   },
   "file_extension": ".py",
   "mimetype": "text/x-python",
   "name": "python",
   "nbconvert_exporter": "python",
   "pygments_lexer": "ipython3",
   "version": "3.8.2"
  }
 },
 "nbformat": 4,
 "nbformat_minor": 2
}
